{
 "cells": [
  {
   "cell_type": "code",
   "execution_count": 1,
   "metadata": {},
   "outputs": [],
   "source": [
    "import os\n",
    "import re\n",
    "from typing import List, Tuple\n",
    "from collections import defaultdict, Counter\n",
    "\n",
    "import seaborn as sns\n",
    "from matplotlib import pyplot as plt\n",
    "\n",
    "%matplotlib inline\n",
    "sns.set_style('whitegrid')"
   ]
  },
  {
   "cell_type": "code",
   "execution_count": 2,
   "metadata": {},
   "outputs": [],
   "source": [
    "def read_corpus(filepath: str) -> List[List[Tuple[str]]]:\n",
    "    output = []\n",
    "    \n",
    "    with open(filepath, 'r') as f:\n",
    "        for sentence in re.split(r'\\n\\n+', f.read()):\n",
    "            if not sentence:\n",
    "                continue\n",
    "            \n",
    "            output.append([])\n",
    "            for token in sentence.split('\\n'):\n",
    "                if token.startswith('#') or not token:\n",
    "                    continue\n",
    "                    \n",
    "                output[-1].append(tuple(token.split('\\t')))\n",
    "    \n",
    "    assert all(len(token) == 10 for sentence in output for token in sentence)\n",
    "    assert all(len(sentence) > 0 for sentence in output)\n",
    "    \n",
    "    return output"
   ]
  },
  {
   "cell_type": "code",
   "execution_count": 3,
   "metadata": {},
   "outputs": [
    {
     "name": "stdout",
     "output_type": "stream",
     "text": [
      "zh_gsd-ud-train.conllu\n",
      "zh_gsd-ud-test.conllu\n",
      "zh_gsd-ud-dev.conllu\n"
     ]
    }
   ],
   "source": [
    "corpus = []\n",
    "\n",
    "for filename in os.listdir('../data/UD_Chinese-GSD'):\n",
    "    if not filename.endswith('.conllu'):\n",
    "        continue\n",
    "    \n",
    "    print(filename)\n",
    "    corpus.extend(read_corpus('../data/UD_Chinese-GSD/' + filename))"
   ]
  },
  {
   "cell_type": "markdown",
   "metadata": {},
   "source": [
    "- Количество размеченных предложений и токенов"
   ]
  },
  {
   "cell_type": "code",
   "execution_count": 4,
   "metadata": {},
   "outputs": [
    {
     "data": {
      "text/plain": [
       "4997"
      ]
     },
     "execution_count": 4,
     "metadata": {},
     "output_type": "execute_result"
    }
   ],
   "source": [
    "len(corpus)"
   ]
  },
  {
   "cell_type": "code",
   "execution_count": 5,
   "metadata": {},
   "outputs": [
    {
     "data": {
      "text/plain": [
       "123291"
      ]
     },
     "execution_count": 5,
     "metadata": {},
     "output_type": "execute_result"
    }
   ],
   "source": [
    "num_tokens = sum(len(sentence) for sentence in corpus)\n",
    "num_tokens"
   ]
  },
  {
   "cell_type": "markdown",
   "metadata": {},
   "source": [
    "- Количество уникальных символов"
   ]
  },
  {
   "cell_type": "code",
   "execution_count": 6,
   "metadata": {},
   "outputs": [
    {
     "data": {
      "text/plain": [
       "3740"
      ]
     },
     "execution_count": 6,
     "metadata": {},
     "output_type": "execute_result"
    }
   ],
   "source": [
    "num_chars = len(set([char for sentence in corpus for token in sentence for char in token[1]]))\n",
    "num_chars"
   ]
  },
  {
   "cell_type": "markdown",
   "metadata": {},
   "source": [
    "- В каком проценте случаев лемма совпадает с токеном"
   ]
  },
  {
   "cell_type": "code",
   "execution_count": 7,
   "metadata": {},
   "outputs": [
    {
     "name": "stdout",
     "output_type": "stream",
     "text": [
      "В 99.81% случаев лемма совпадает с токеном.\n"
     ]
    }
   ],
   "source": [
    "count = 0\n",
    "\n",
    "for sentence in corpus:\n",
    "    for token in sentence:\n",
    "        if token[1] == token[2]:\n",
    "            count += 1\n",
    "print(f'В {count / num_tokens * 100:.2f}% случаев лемма совпадает с токеном.')"
   ]
  },
  {
   "cell_type": "code",
   "execution_count": 8,
   "metadata": {},
   "outputs": [],
   "source": [
    "sentence_lengths, token_lengths, upos, rel_types = [], [], [], []"
   ]
  },
  {
   "cell_type": "code",
   "execution_count": 9,
   "metadata": {},
   "outputs": [],
   "source": [
    "for sentence in corpus:\n",
    "    sentence_lengths.append(len(sentence))\n",
    "    for token in sentence:\n",
    "        token_lengths.append(len(token[1]))\n",
    "        upos.append(token[3])\n",
    "        rel_types.append(token[7])"
   ]
  },
  {
   "cell_type": "code",
   "execution_count": 10,
   "metadata": {},
   "outputs": [
    {
     "data": {
      "image/png": "[encoded data removed]",
      "text/plain": [
       "<Figure size 1152x576 with 1 Axes>"
      ]
     },
     "metadata": {
      "needs_background": "light"
     },
     "output_type": "display_data"
    }
   ],
   "source": [
    "plt.figure(figsize=(16, 8))\n",
    "plt.hist(sentence_lengths)\n",
    "plt.legend(['Sentence lengths'], loc='upper center', fontsize='xx-large')\n",
    "plt.show()"
   ]
  },
  {
   "cell_type": "code",
   "execution_count": 11,
   "metadata": {},
   "outputs": [
    {
     "data": {
      "image/png": "[encoded data removed]",
      "text/plain": [
       "<Figure size 1152x576 with 1 Axes>"
      ]
     },
     "metadata": {
      "needs_background": "light"
     },
     "output_type": "display_data"
    }
   ],
   "source": [
    "plt.figure(figsize=(16, 8))\n",
    "plt.hist(token_lengths, bins=max(token_lengths))\n",
    "plt.xticks(list(range(max(token_lengths) + 1)))\n",
    "plt.legend(['Token lengths'], loc='upper center', fontsize='xx-large')\n",
    "plt.show()"
   ]
  },
  {
   "cell_type": "code",
   "execution_count": 12,
   "metadata": {},
   "outputs": [
    {
     "data": {
      "text/plain": [
       "['SYM']"
      ]
     },
     "execution_count": 12,
     "metadata": {},
     "output_type": "execute_result"
    }
   ],
   "source": [
    "upos_counts = Counter(upos)\n",
    "\n",
    "[upos for upos, count in upos_counts.items() if count < 300]"
   ]
  },
  {
   "cell_type": "code",
   "execution_count": 13,
   "metadata": {},
   "outputs": [
    {
     "data": {
      "text/plain": [
       "'NOUN, VERB, PUNCT, PART, PROPN, NUM, ADV, ADP, ADJ, AUX, PRON, CCONJ, DET, X, SYM'"
      ]
     },
     "execution_count": 13,
     "metadata": {},
     "output_type": "execute_result"
    }
   ],
   "source": [
    "', '.join(sorted(set(upos), key=lambda x: upos_counts[x], reverse=True))"
   ]
  },
  {
   "cell_type": "code",
   "execution_count": 14,
   "metadata": {},
   "outputs": [
    {
     "data": {
      "text/plain": [
       "['iobj',\n",
       " 'discourse',\n",
       " 'nsubj:pass',\n",
       " 'csubj:pass',\n",
       " 'obl:patient',\n",
       " 'dislocated',\n",
       " 'mark:advb',\n",
       " 'mark:comp',\n",
       " 'reparandum',\n",
       " 'vocative',\n",
       " 'case:suff',\n",
       " 'orphan']"
      ]
     },
     "execution_count": 14,
     "metadata": {},
     "output_type": "execute_result"
    }
   ],
   "source": [
    "rel_counts = Counter(rel_types)\n",
    "\n",
    "[rel for rel, count in rel_counts.items() if count < 300]"
   ]
  },
  {
   "cell_type": "code",
   "execution_count": 15,
   "metadata": {},
   "outputs": [
    {
     "data": {
      "text/plain": [
       "'punct, nmod, nsubj, obj, nummod, compound, root, mark, advcl, advmod, case, case:dec, conj, obl, mark:relcl, parataxis, clf, ccomp, amod, acl, cop, acl:relcl, xcomp, cc, det, nmod:tmod, appos, flat:name, case:aspect, aux, case:pref, aux:pass, csubj, flat:foreign, nsubj:pass, obl:patient, discourse, mark:advb, iobj, dislocated, mark:comp, csubj:pass, reparandum, orphan, vocative, case:suff'"
      ]
     },
     "execution_count": 15,
     "metadata": {},
     "output_type": "execute_result"
    }
   ],
   "source": [
    "', '.join(sorted(set(rel_types), key=lambda x: rel_counts[x], reverse=True))"
   ]
  },
  {
   "cell_type": "code",
   "execution_count": 16,
   "metadata": {},
   "outputs": [],
   "source": [
    "rel2pos = defaultdict(list)\n",
    "\n",
    "for sentence in corpus:\n",
    "    for token in sentence:\n",
    "        if token[7] == 'root':\n",
    "            continue\n",
    "            \n",
    "        rel2pos[token[7]].append(sentence[int(token[6]) - 1][3])"
   ]
  },
  {
   "cell_type": "code",
   "execution_count": 17,
   "metadata": {},
   "outputs": [
    {
     "name": "stdout",
     "output_type": "stream",
     "text": [
      "advcl: VERB\n",
      "obj: VERB\n",
      "xcomp: VERB\n",
      "mark: VERB\n",
      "case:aspect: VERB\n",
      "iobj: VERB\n",
      "nmod:tmod: VERB\n",
      "ccomp: VERB\n",
      "compound: PART\n",
      "det: NOUN\n",
      "clf: NOUN\n",
      "nummod: NOUN\n",
      "obl: VERB\n",
      "aux: VERB\n",
      "nsubj:pass: VERB\n",
      "aux:pass: VERB\n",
      "flat:name: PROPN\n",
      "csubj:pass: VERB\n",
      "obl:patient: VERB\n",
      "flat:foreign: X\n",
      "vocative: VERB\n",
      "case:suff: VERB\n",
      "orphan: NOUN\n"
     ]
    }
   ],
   "source": [
    "for key, value in rel2pos.items():\n",
    "    counts = Counter(value)\n",
    "    max_count = max(counts.items(), key = lambda x: x[1])\n",
    "    if max_count[1] / sum(counts.values()) >= 0.9:\n",
    "        print(f'{key}: {max_count[0]}')"
   ]
  },
  {
   "cell_type": "code",
   "execution_count": null,
   "metadata": {},
   "outputs": [],
   "source": []
  }
 ],
 "metadata": {
  "kernelspec": {
   "display_name": "Python 3",
   "language": "python",
   "name": "python3"
  },
  "language_info": {
   "codemirror_mode": {
    "name": "ipython",
    "version": 3
   },
   "file_extension": ".py",
   "mimetype": "text/x-python",
   "name": "python",
   "nbconvert_exporter": "python",
   "pygments_lexer": "ipython3",
   "version": "3.6.8"
  }
 },
 "nbformat": 4,
 "nbformat_minor": 2
}
