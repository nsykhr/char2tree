{
 "cells": [
  {
   "cell_type": "code",
   "execution_count": 1,
   "metadata": {},
   "outputs": [],
   "source": [
    "import os\n",
    "import re\n",
    "from typing import List, Tuple\n",
    "from collections import defaultdict, Counter\n",
    "\n",
    "import seaborn as sns\n",
    "from matplotlib import pyplot as plt\n",
    "\n",
    "%matplotlib inline\n",
    "sns.set_style('whitegrid')"
   ]
  },
  {
   "cell_type": "code",
   "execution_count": 2,
   "metadata": {},
   "outputs": [],
   "source": [
    "def read_corpus(filepath: str) -> List[List[Tuple[str]]]:\n",
    "    output = []\n",
    "    \n",
    "    with open(filepath, 'r') as f:\n",
    "        for sentence in re.split(r'\\n\\n+', f.read()):\n",
    "            if not sentence:\n",
    "                continue\n",
    "            \n",
    "            output.append([])\n",
    "            for token in sentence.split('\\n'):\n",
    "                if token.startswith('#') or not token:\n",
    "                    continue\n",
    "                    \n",
    "                output[-1].append(tuple(token.split('\\t')))\n",
    "    \n",
    "    assert all(len(token) == 10 for sentence in output for token in sentence)\n",
    "    assert all(len(sentence) > 0 for sentence in output)\n",
    "    \n",
    "    return output"
   ]
  },
  {
   "cell_type": "code",
   "execution_count": 3,
   "metadata": {},
   "outputs": [
    {
     "name": "stdout",
     "output_type": "stream",
     "text": [
      "lzh_kyoto-ud-dev.conllu\n",
      "lzh_kyoto-ud-train.conllu\n",
      "lzh_kyoto-ud-test.conllu\n"
     ]
    }
   ],
   "source": [
    "corpus = []\n",
    "\n",
    "for filename in os.listdir('../data/UD_Classical_Chinese-Kyoto'):\n",
    "    if not filename.endswith('.conllu'):\n",
    "        continue\n",
    "    \n",
    "    print(filename)\n",
    "    corpus.extend(read_corpus('../data/UD_Classical_Chinese-Kyoto/' + filename))"
   ]
  },
  {
   "cell_type": "markdown",
   "metadata": {},
   "source": [
    "- Количество размеченных предложений и токенов"
   ]
  },
  {
   "cell_type": "code",
   "execution_count": 4,
   "metadata": {},
   "outputs": [
    {
     "data": {
      "text/plain": [
       "26631"
      ]
     },
     "execution_count": 4,
     "metadata": {},
     "output_type": "execute_result"
    }
   ],
   "source": [
    "len(corpus)"
   ]
  },
  {
   "cell_type": "code",
   "execution_count": 5,
   "metadata": {},
   "outputs": [
    {
     "data": {
      "text/plain": [
       "130714"
      ]
     },
     "execution_count": 5,
     "metadata": {},
     "output_type": "execute_result"
    }
   ],
   "source": [
    "num_tokens = sum(len(sentence) for sentence in corpus)\n",
    "num_tokens"
   ]
  },
  {
   "cell_type": "markdown",
   "metadata": {},
   "source": [
    "- Количество уникальных символов"
   ]
  },
  {
   "cell_type": "code",
   "execution_count": 6,
   "metadata": {},
   "outputs": [
    {
     "data": {
      "text/plain": [
       "3432"
      ]
     },
     "execution_count": 6,
     "metadata": {},
     "output_type": "execute_result"
    }
   ],
   "source": [
    "num_chars = len(set([char for sentence in corpus for token in sentence for char in token[1]]))\n",
    "num_chars"
   ]
  },
  {
   "cell_type": "markdown",
   "metadata": {},
   "source": [
    "- В каком проценте случаев лемма совпадает с токеном"
   ]
  },
  {
   "cell_type": "code",
   "execution_count": 7,
   "metadata": {},
   "outputs": [
    {
     "name": "stdout",
     "output_type": "stream",
     "text": [
      "В 98.20% случаев лемма совпадает с токеном.\n"
     ]
    }
   ],
   "source": [
    "count = 0\n",
    "\n",
    "for sentence in corpus:\n",
    "    for token in sentence:\n",
    "        if token[1] == token[2]:\n",
    "            count += 1\n",
    "print(f'В {count / num_tokens * 100:.2f}% случаев лемма совпадает с токеном.')"
   ]
  },
  {
   "cell_type": "code",
   "execution_count": 8,
   "metadata": {},
   "outputs": [],
   "source": [
    "sentence_lengths, token_lengths, upos, rel_types = [], [], [], []"
   ]
  },
  {
   "cell_type": "code",
   "execution_count": 9,
   "metadata": {},
   "outputs": [],
   "source": [
    "for sentence in corpus:\n",
    "    sentence_lengths.append(len(sentence))\n",
    "    for token in sentence:\n",
    "        token_lengths.append(len(token[1]))\n",
    "        upos.append(token[3])\n",
    "        rel_types.append(token[7])"
   ]
  },
  {
   "cell_type": "code",
   "execution_count": 10,
   "metadata": {},
   "outputs": [
    {
     "data": {
      "image/png": "[encoded data removed]",
      "text/plain": [
       "<Figure size 1152x576 with 1 Axes>"
      ]
     },
     "metadata": {
      "needs_background": "light"
     },
     "output_type": "display_data"
    }
   ],
   "source": [
    "plt.figure(figsize=(16, 8))\n",
    "plt.hist(sentence_lengths)\n",
    "plt.legend(['Sentence lengths'], loc='upper center', fontsize='xx-large')\n",
    "plt.show()"
   ]
  },
  {
   "cell_type": "code",
   "execution_count": 11,
   "metadata": {},
   "outputs": [
    {
     "data": {
      "image/png": "[encoded data removed]",
      "text/plain": [
       "<Figure size 1152x576 with 1 Axes>"
      ]
     },
     "metadata": {
      "needs_background": "light"
     },
     "output_type": "display_data"
    }
   ],
   "source": [
    "plt.figure(figsize=(16, 8))\n",
    "plt.hist(token_lengths, bins=max(token_lengths))\n",
    "plt.xticks(list(range(max(token_lengths) + 1)))\n",
    "plt.legend(['Token lengths'], loc='upper center', fontsize='xx-large')\n",
    "plt.show()"
   ]
  },
  {
   "cell_type": "code",
   "execution_count": 12,
   "metadata": {},
   "outputs": [
    {
     "data": {
      "text/plain": [
       "['INTJ', 'SYM']"
      ]
     },
     "execution_count": 12,
     "metadata": {},
     "output_type": "execute_result"
    }
   ],
   "source": [
    "upos_counts = Counter(upos)\n",
    "\n",
    "[upos for upos, count in upos_counts.items() if count < 300]"
   ]
  },
  {
   "cell_type": "code",
   "execution_count": 13,
   "metadata": {},
   "outputs": [
    {
     "data": {
      "text/plain": [
       "'VERB, NOUN, ADV, PART, PRON, PROPN, SCONJ, ADP, CCONJ, NUM, AUX, SYM, INTJ'"
      ]
     },
     "execution_count": 13,
     "metadata": {},
     "output_type": "execute_result"
    }
   ],
   "source": [
    "', '.join(sorted(set(upos), key=lambda x: upos_counts[x], reverse=True))"
   ]
  },
  {
   "cell_type": "code",
   "execution_count": 14,
   "metadata": {},
   "outputs": [
    {
     "data": {
      "text/plain": [
       "['list',\n",
       " 'xcomp',\n",
       " 'dislocated',\n",
       " 'expl',\n",
       " 'compound:redup',\n",
       " 'vocative',\n",
       " 'orphan',\n",
       " 'nsubj:pass',\n",
       " 'csubj:pass']"
      ]
     },
     "execution_count": 14,
     "metadata": {},
     "output_type": "execute_result"
    }
   ],
   "source": [
    "rel_counts = Counter(rel_types)\n",
    "\n",
    "[rel for rel, count in rel_counts.items() if count < 300]"
   ]
  },
  {
   "cell_type": "code",
   "execution_count": 15,
   "metadata": {},
   "outputs": [
    {
     "data": {
      "text/plain": [
       "'root, obj, nsubj, advmod, nmod, conj, case, discourse:sp, amod, cc, det, obl, ccomp, flat, advcl, nummod, acl, parataxis, aux, flat:vv, csubj, obl:lmod, obl:tmod, mark, compound, cop, clf, fixed, iobj, discourse, expl, xcomp, compound:redup, dislocated, list, vocative, nsubj:pass, orphan, csubj:pass'"
      ]
     },
     "execution_count": 15,
     "metadata": {},
     "output_type": "execute_result"
    }
   ],
   "source": [
    "', '.join(sorted(set(rel_types), key=lambda x: rel_counts[x], reverse=True))"
   ]
  },
  {
   "cell_type": "code",
   "execution_count": 16,
   "metadata": {},
   "outputs": [],
   "source": [
    "rel2pos = defaultdict(list)\n",
    "\n",
    "for sentence in corpus:\n",
    "    for token in sentence:\n",
    "        if token[7] == 'root':\n",
    "            continue\n",
    "            \n",
    "        rel2pos[token[7]].append(sentence[int(token[6]) - 1][3])"
   ]
  },
  {
   "cell_type": "code",
   "execution_count": 17,
   "metadata": {},
   "outputs": [
    {
     "name": "stdout",
     "output_type": "stream",
     "text": [
      "nmod: NOUN\n",
      "obj: VERB\n",
      "obl:tmod: VERB\n",
      "compound: NOUN\n",
      "cc: VERB\n",
      "ccomp: VERB\n",
      "det: NOUN\n",
      "advmod: VERB\n",
      "advcl: VERB\n",
      "xcomp: VERB\n",
      "obl: VERB\n",
      "iobj: VERB\n",
      "aux: VERB\n",
      "parataxis: VERB\n",
      "obl:lmod: VERB\n",
      "flat:vv: VERB\n",
      "expl: VERB\n",
      "clf: NUM\n",
      "vocative: VERB\n",
      "orphan: VERB\n",
      "csubj:pass: VERB\n"
     ]
    }
   ],
   "source": [
    "for key, value in rel2pos.items():\n",
    "    counts = Counter(value)\n",
    "    max_count = max(counts.items(), key = lambda x: x[1])\n",
    "    if max_count[1] / sum(counts.values()) >= 0.9:\n",
    "        print(f'{key}: {max_count[0]}')"
   ]
  },
  {
   "cell_type": "code",
   "execution_count": null,
   "metadata": {},
   "outputs": [],
   "source": []
  }
 ],
 "metadata": {
  "kernelspec": {
   "display_name": "Python 3",
   "language": "python",
   "name": "python3"
  },
  "language_info": {
   "codemirror_mode": {
    "name": "ipython",
    "version": 3
   },
   "file_extension": ".py",
   "mimetype": "text/x-python",
   "name": "python",
   "nbconvert_exporter": "python",
   "pygments_lexer": "ipython3",
   "version": "3.6.8"
  }
 },
 "nbformat": 4,
 "nbformat_minor": 2
}
