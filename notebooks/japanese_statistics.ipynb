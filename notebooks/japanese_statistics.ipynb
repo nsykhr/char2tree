{
 "cells": [
  {
   "cell_type": "markdown",
   "metadata": {},
   "source": [
    "# Задание"
   ]
  },
  {
   "cell_type": "markdown",
   "metadata": {},
   "source": [
    "- Наша команда приняла решение работать с размеченными данными для японского языка, пока корпус полисинтетического языка мапудунгун находится в стадии разметки.\n",
    "\n",
    "- Мы скачали корпус с сайта Universal Dependencies, он представлен в виде трёх файлов (обучающая, валидационная и тестовая выборки) в папке __data__.\n",
    "\n",
    "- Цель: а) написать функцию для чтения этих данных, чтобы потом их можно было подавать на вход модели; б) исследовать данные."
   ]
  },
  {
   "cell_type": "markdown",
   "metadata": {},
   "source": [
    "## Устройство корпуса"
   ]
  },
  {
   "cell_type": "markdown",
   "metadata": {},
   "source": [
    "- Корпус записан в формате CoNLL-U\n",
    "- Первая строка в предложении выглядит так: _# sent_id = train-s1_. Мы не извлекаем из неё никакой информации.\n",
    "- Далее идёт строка вида: _# text = ホッケーにはデンジャラスプレーの反則があるので、膝より上にボールを浮かすことは基本的に反則になるが、その例外の一つがこのスクープである。_ Опять же, пропускаем.\n",
    "- Наконец, следующие строки будут соответствовать каждая своему токену (вспомните разметку для NER из курса компьютерной лингвистики, только колонок намного больше двух).\n",
    "- Вот пример строки токена: _2\tに\tに\tADP\tPS\t_\t1\tcase\t_\tSpaceAfter=No_\n",
    "- Первая колонка: номер токена в предложении (__нумерация начинается с 1__).\n",
    "- Вторая колонка: сам токен, как он выглядит в предложении.\n",
    "- Третья колонка: лемма.\n",
    "- Четвёртая колонка: часть речи (UPOS, Universal POS-tags).\n",
    "- Пятая колонка: XPOS (language-specific POS-tags).\n",
    "- Шестая колонка: другие грамматические теги.\n",
    "- Седьмая колонка: индекс токена, который является вершиной для текущего токена.\n",
    "- Восьмая колонка: тип отношения между токеном и его вершиной.\n",
    "- Девятая колонка: ???\n",
    "- Десятая колонка: есть ли в предложении после этого токена пробел (всегда значение \"нет\").\n",
    "- Предложения разделены пустыми строками (символами __\\n__)."
   ]
  },
  {
   "cell_type": "markdown",
   "metadata": {},
   "source": [
    "## Задача №1"
   ]
  },
  {
   "cell_type": "markdown",
   "metadata": {},
   "source": [
    "Напишите функцию для чтения корпуса в таком формате со следующей сигнатурой:\n",
    "- вход: путь до файла\n",
    "- выход: список список кортежей (__List[List[Tuple]]__), где в верхнем списке лежат предложения, во вложенном списке — токены, а каждый токен представлен как кортеж длины 10, где каждое значение соответствует своей колонке\n",
    "\n",
    "Перед тем как вернуть полученный список списков кортежей, убедитесь с помощью оператора __assert__, что:\n",
    "- длина всех кортежей равна 10;\n",
    "- длина каждого вложенного списка больше или равна единице.\n",
    "\n",
    "Кроме того, проверьте, что при чтении файлов не возникает проблем с кодировкой."
   ]
  },
  {
   "cell_type": "code",
   "execution_count": 1,
   "metadata": {},
   "outputs": [],
   "source": [
    "import os\n",
    "import re\n",
    "from typing import List, Tuple\n",
    "from collections import defaultdict, Counter\n",
    "\n",
    "import seaborn as sns\n",
    "from matplotlib import pyplot as plt\n",
    "\n",
    "%matplotlib inline\n",
    "sns.set_style('whitegrid')"
   ]
  },
  {
   "cell_type": "code",
   "execution_count": 2,
   "metadata": {},
   "outputs": [],
   "source": [
    "def read_corpus(filepath: str) -> List[List[Tuple[str]]]:\n",
    "    output = []\n",
    "    \n",
    "    with open(filepath, 'r') as f:\n",
    "        for sentence in re.split(r'\\n\\n+', f.read()):\n",
    "            if not sentence:\n",
    "                continue\n",
    "            \n",
    "            output.append([])\n",
    "            for token in sentence.split('\\n'):\n",
    "                if token.startswith('#') or not token:\n",
    "                    continue\n",
    "                    \n",
    "                output[-1].append(tuple(token.split('\\t')))\n",
    "    \n",
    "    assert all(len(token) == 10 for sentence in output for token in sentence)\n",
    "    assert all(len(sentence) > 0 for sentence in output)\n",
    "    \n",
    "    return output"
   ]
  },
  {
   "cell_type": "code",
   "execution_count": 3,
   "metadata": {},
   "outputs": [
    {
     "name": "stdout",
     "output_type": "stream",
     "text": [
      "ja_gsd-ud-train.conllu\n",
      "ja_gsd-ud-test.conllu\n",
      "ja_gsd-ud-dev.conllu\n"
     ]
    }
   ],
   "source": [
    "corpus = []\n",
    "\n",
    "for filename in os.listdir('../data/UD_Japanese-GSD'):\n",
    "    if not filename.endswith('.conllu'):\n",
    "        continue\n",
    "    \n",
    "    print(filename)\n",
    "    corpus.extend(read_corpus('../data/UD_Japanese-GSD/' + filename))"
   ]
  },
  {
   "cell_type": "markdown",
   "metadata": {},
   "source": [
    "## Задача №2"
   ]
  },
  {
   "cell_type": "markdown",
   "metadata": {},
   "source": [
    "- Посчитайте, сколько в корпусе есть размеченных предложений и токенов."
   ]
  },
  {
   "cell_type": "code",
   "execution_count": 4,
   "metadata": {},
   "outputs": [
    {
     "data": {
      "text/plain": [
       "8071"
      ]
     },
     "execution_count": 4,
     "metadata": {},
     "output_type": "execute_result"
    }
   ],
   "source": [
    "len(corpus)"
   ]
  },
  {
   "cell_type": "code",
   "execution_count": 5,
   "metadata": {},
   "outputs": [
    {
     "data": {
      "text/plain": [
       "192605"
      ]
     },
     "execution_count": 5,
     "metadata": {},
     "output_type": "execute_result"
    }
   ],
   "source": [
    "num_tokens = sum(len(sentence) for sentence in corpus)\n",
    "num_tokens"
   ]
  },
  {
   "cell_type": "markdown",
   "metadata": {},
   "source": [
    "- Количество уникальных символов"
   ]
  },
  {
   "cell_type": "code",
   "execution_count": 6,
   "metadata": {},
   "outputs": [
    {
     "data": {
      "text/plain": [
       "2877"
      ]
     },
     "execution_count": 6,
     "metadata": {},
     "output_type": "execute_result"
    }
   ],
   "source": [
    "num_chars = len(set([char for sentence in corpus for token in sentence for char in token[1]]))\n",
    "num_chars"
   ]
  },
  {
   "cell_type": "markdown",
   "metadata": {},
   "source": [
    "- Посчитайте, в каком проценте случаев лемма совпадает с токеном."
   ]
  },
  {
   "cell_type": "code",
   "execution_count": 7,
   "metadata": {},
   "outputs": [
    {
     "name": "stdout",
     "output_type": "stream",
     "text": [
      "В 87.60% случаев лемма совпадает с токеном.\n"
     ]
    }
   ],
   "source": [
    "count = 0\n",
    "\n",
    "for sentence in corpus:\n",
    "    for token in sentence:\n",
    "        if token[1] == token[2]:\n",
    "            count += 1\n",
    "print(f'В {count / num_tokens * 100:.2f}% случаев лемма совпадает с токеном.')"
   ]
  },
  {
   "cell_type": "markdown",
   "metadata": {},
   "source": [
    "- Для четвёртой, пятой, восьмой, девятой и десятой колонки составьте списки встречаемых значений и посчитайте их частотность.\n",
    "- Проделайте аналогичную работу для шестой колонки, но в процессе также разбивайте её по символу |. Посчитайте частотность каждого отдельного тега."
   ]
  },
  {
   "cell_type": "code",
   "execution_count": 8,
   "metadata": {},
   "outputs": [],
   "source": [
    "sentence_lengths, token_lengths, upos, rel_types = [], [], [], []"
   ]
  },
  {
   "cell_type": "code",
   "execution_count": 9,
   "metadata": {},
   "outputs": [],
   "source": [
    "for sentence in corpus:\n",
    "    sentence_lengths.append(len(sentence))\n",
    "    for token in sentence:\n",
    "        token_lengths.append(len(token[1]))\n",
    "        upos.append(token[3])\n",
    "        rel_types.append(token[7])"
   ]
  },
  {
   "cell_type": "code",
   "execution_count": 10,
   "metadata": {},
   "outputs": [
    {
     "data": {
      "image/png": "[encoded data removed]",
      "text/plain": [
       "<Figure size 1152x576 with 1 Axes>"
      ]
     },
     "metadata": {
      "needs_background": "light"
     },
     "output_type": "display_data"
    }
   ],
   "source": [
    "plt.figure(figsize=(16, 8))\n",
    "plt.hist(sentence_lengths)\n",
    "plt.legend(['Sentence lengths'], loc='upper center', fontsize='xx-large')\n",
    "plt.show()"
   ]
  },
  {
   "cell_type": "code",
   "execution_count": 11,
   "metadata": {},
   "outputs": [
    {
     "data": {
      "image/png": "[encoded data removed]",
      "text/plain": [
       "<Figure size 1152x576 with 1 Axes>"
      ]
     },
     "metadata": {
      "needs_background": "light"
     },
     "output_type": "display_data"
    }
   ],
   "source": [
    "plt.figure(figsize=(16, 8))\n",
    "plt.hist(token_lengths, bins=max(token_lengths))\n",
    "plt.xticks(list(range(max(token_lengths) + 1)))\n",
    "plt.legend(['Token lengths'], loc='upper center', fontsize='xx-large')\n",
    "plt.show()"
   ]
  },
  {
   "cell_type": "code",
   "execution_count": 12,
   "metadata": {},
   "outputs": [
    {
     "data": {
      "text/plain": [
       "['INTJ']"
      ]
     },
     "execution_count": 12,
     "metadata": {},
     "output_type": "execute_result"
    }
   ],
   "source": [
    "upos_counts = Counter(upos)\n",
    "\n",
    "[upos for upos, count in upos_counts.items() if count < 300]"
   ]
  },
  {
   "cell_type": "markdown",
   "metadata": {},
   "source": [
    "Мало примеров только для тега INTJ.\n",
    "Возможно, для этой части речи стоит написать какие-нибудь костыли."
   ]
  },
  {
   "cell_type": "code",
   "execution_count": 13,
   "metadata": {},
   "outputs": [
    {
     "data": {
      "text/plain": [
       "'NOUN, ADP, AUX, PUNCT, VERB, SCONJ, PROPN, NUM, ADJ, ADV, SYM, PART, PRON, DET, CCONJ, INTJ'"
      ]
     },
     "execution_count": 13,
     "metadata": {},
     "output_type": "execute_result"
    }
   ],
   "source": [
    "', '.join(sorted(set(upos), key=lambda x: upos_counts[x], reverse=True))"
   ]
  },
  {
   "cell_type": "code",
   "execution_count": 14,
   "metadata": {},
   "outputs": [
    {
     "data": {
      "text/plain": [
       "['csubj', 'dep', 'discourse']"
      ]
     },
     "execution_count": 14,
     "metadata": {},
     "output_type": "execute_result"
    }
   ],
   "source": [
    "rel_counts = Counter(rel_types)\n",
    "\n",
    "[rel for rel, count in rel_counts.items() if count < 300]"
   ]
  },
  {
   "cell_type": "markdown",
   "metadata": {},
   "source": [
    "Три редких типа отношений."
   ]
  },
  {
   "cell_type": "code",
   "execution_count": 15,
   "metadata": {},
   "outputs": [
    {
     "data": {
      "text/plain": [
       "'case, compound, aux, punct, obl, nmod, mark, root, nsubj, advcl, acl, obj, nummod, fixed, cop, advmod, det, cc, amod, ccomp, dislocated, csubj, dep, discourse'"
      ]
     },
     "execution_count": 15,
     "metadata": {},
     "output_type": "execute_result"
    }
   ],
   "source": [
    "', '.join(sorted(set(rel_types), key=lambda x: rel_counts[x], reverse=True))"
   ]
  },
  {
   "cell_type": "markdown",
   "metadata": {},
   "source": [
    "- Проверьте, есть ли корреляция между частью речи токена-вершины и типом отношения. Не забывайте, что в UD нумерация начинается с единицы, а в Python — с нуля!"
   ]
  },
  {
   "cell_type": "code",
   "execution_count": 16,
   "metadata": {},
   "outputs": [],
   "source": [
    "rel2pos = defaultdict(list)\n",
    "\n",
    "for sentence in corpus:\n",
    "    for token in sentence:\n",
    "        if token[7] == 'root':\n",
    "            continue\n",
    "            \n",
    "        rel2pos[token[7]].append(sentence[int(token[6]) - 1][3])"
   ]
  },
  {
   "cell_type": "code",
   "execution_count": 17,
   "metadata": {},
   "outputs": [
    {
     "name": "stdout",
     "output_type": "stream",
     "text": [
      "nmod: NOUN\n",
      "obj: VERB\n",
      "acl: NOUN\n",
      "cop: NOUN\n",
      "det: NOUN\n",
      "nummod: NOUN\n",
      "ccomp: VERB\n",
      "fixed: ADP\n",
      "amod: NOUN\n"
     ]
    }
   ],
   "source": [
    "for key, value in rel2pos.items():\n",
    "    counts = Counter(value)\n",
    "    max_count = max(counts.items(), key = lambda x: x[1])\n",
    "    if max_count[1] / sum(counts.values()) >= 0.9:\n",
    "        print(f'{key}: {max_count[0]}')"
   ]
  },
  {
   "cell_type": "code",
   "execution_count": null,
   "metadata": {},
   "outputs": [],
   "source": []
  }
 ],
 "metadata": {
  "kernelspec": {
   "display_name": "Python 3",
   "language": "python",
   "name": "python3"
  },
  "language_info": {
   "codemirror_mode": {
    "name": "ipython",
    "version": 3
   },
   "file_extension": ".py",
   "mimetype": "text/x-python",
   "name": "python",
   "nbconvert_exporter": "python",
   "pygments_lexer": "ipython3",
   "version": "3.6.8"
  }
 },
 "nbformat": 4,
 "nbformat_minor": 2
}
